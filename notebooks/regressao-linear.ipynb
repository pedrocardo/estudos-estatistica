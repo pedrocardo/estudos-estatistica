{
 "cells": [
  {
   "cell_type": "markdown",
   "metadata": {},
   "source": [
    "# Regressão linear\n"
   ]
  },
  {
   "cell_type": "code",
   "execution_count": 1,
   "metadata": {},
   "outputs": [
    {
     "data": {
      "text/html": [
       "<div>\n",
       "<style scoped>\n",
       "    .dataframe tbody tr th:only-of-type {\n",
       "        vertical-align: middle;\n",
       "    }\n",
       "\n",
       "    .dataframe tbody tr th {\n",
       "        vertical-align: top;\n",
       "    }\n",
       "\n",
       "    .dataframe thead th {\n",
       "        text-align: right;\n",
       "    }\n",
       "</style>\n",
       "<table border=\"1\" class=\"dataframe\">\n",
       "  <thead>\n",
       "    <tr style=\"text-align: right;\">\n",
       "      <th></th>\n",
       "      <th>species</th>\n",
       "      <th>island</th>\n",
       "      <th>bill_length_mm</th>\n",
       "      <th>bill_depth_mm</th>\n",
       "      <th>flipper_length_mm</th>\n",
       "      <th>body_mass_g</th>\n",
       "      <th>sex</th>\n",
       "    </tr>\n",
       "  </thead>\n",
       "  <tbody>\n",
       "    <tr>\n",
       "      <th>0</th>\n",
       "      <td>Adelie</td>\n",
       "      <td>Torgersen</td>\n",
       "      <td>39.1</td>\n",
       "      <td>18.7</td>\n",
       "      <td>181.0</td>\n",
       "      <td>3750.0</td>\n",
       "      <td>male</td>\n",
       "    </tr>\n",
       "    <tr>\n",
       "      <th>1</th>\n",
       "      <td>Adelie</td>\n",
       "      <td>Torgersen</td>\n",
       "      <td>39.5</td>\n",
       "      <td>17.4</td>\n",
       "      <td>186.0</td>\n",
       "      <td>3800.0</td>\n",
       "      <td>female</td>\n",
       "    </tr>\n",
       "    <tr>\n",
       "      <th>2</th>\n",
       "      <td>Adelie</td>\n",
       "      <td>Torgersen</td>\n",
       "      <td>40.3</td>\n",
       "      <td>18.0</td>\n",
       "      <td>195.0</td>\n",
       "      <td>3250.0</td>\n",
       "      <td>female</td>\n",
       "    </tr>\n",
       "    <tr>\n",
       "      <th>3</th>\n",
       "      <td>Adelie</td>\n",
       "      <td>Torgersen</td>\n",
       "      <td>36.7</td>\n",
       "      <td>19.3</td>\n",
       "      <td>193.0</td>\n",
       "      <td>3450.0</td>\n",
       "      <td>female</td>\n",
       "    </tr>\n",
       "    <tr>\n",
       "      <th>4</th>\n",
       "      <td>Adelie</td>\n",
       "      <td>Torgersen</td>\n",
       "      <td>39.3</td>\n",
       "      <td>20.6</td>\n",
       "      <td>190.0</td>\n",
       "      <td>3650.0</td>\n",
       "      <td>male</td>\n",
       "    </tr>\n",
       "  </tbody>\n",
       "</table>\n",
       "</div>"
      ],
      "text/plain": [
       "  species     island  bill_length_mm  bill_depth_mm  flipper_length_mm  \\\n",
       "0  Adelie  Torgersen            39.1           18.7              181.0   \n",
       "1  Adelie  Torgersen            39.5           17.4              186.0   \n",
       "2  Adelie  Torgersen            40.3           18.0              195.0   \n",
       "3  Adelie  Torgersen            36.7           19.3              193.0   \n",
       "4  Adelie  Torgersen            39.3           20.6              190.0   \n",
       "\n",
       "   body_mass_g     sex  \n",
       "0       3750.0    male  \n",
       "1       3800.0  female  \n",
       "2       3250.0  female  \n",
       "3       3450.0  female  \n",
       "4       3650.0    male  "
      ]
     },
     "execution_count": 1,
     "metadata": {},
     "output_type": "execute_result"
    }
   ],
   "source": [
    "import pandas as pd\n",
    "import plotly.express as px\n",
    "import plotly.io as pio\n",
    "import statsmodels.api as sm\n",
    "import statsmodels.formula.api as smf\n",
    "from scipy import stats\n",
    "from statsmodels.datasets import get_rdataset\n",
    "from statsmodels.stats.outliers_influence import variance_inflation_factor\n",
    "\n",
    "pio.renderers.default = \"png\"\n",
    "\n",
    "penguins: pd.DataFrame = get_rdataset(\"penguins\", \"palmerpenguins\").data\n",
    "\n",
    "penguins: pd.DataFrame = penguins.drop(\"year\", axis=\"columns\")\n",
    "\n",
    "penguins: pd.DataFrame = penguins.dropna().reset_index(drop=True)\n",
    "\n",
    "penguins.head()"
   ]
  },
  {
   "cell_type": "markdown",
   "metadata": {},
   "source": [
    "## Variáveis _dummies_ com _one-hot_ _enconding_\n"
   ]
  },
  {
   "cell_type": "code",
   "execution_count": 2,
   "metadata": {},
   "outputs": [
    {
     "data": {
      "text/html": [
       "<div>\n",
       "<style scoped>\n",
       "    .dataframe tbody tr th:only-of-type {\n",
       "        vertical-align: middle;\n",
       "    }\n",
       "\n",
       "    .dataframe tbody tr th {\n",
       "        vertical-align: top;\n",
       "    }\n",
       "\n",
       "    .dataframe thead th {\n",
       "        text-align: right;\n",
       "    }\n",
       "</style>\n",
       "<table border=\"1\" class=\"dataframe\">\n",
       "  <thead>\n",
       "    <tr style=\"text-align: right;\">\n",
       "      <th></th>\n",
       "      <th>bill_length_mm</th>\n",
       "      <th>bill_depth_mm</th>\n",
       "      <th>flipper_length_mm</th>\n",
       "      <th>body_mass_g</th>\n",
       "      <th>species_Chinstrap</th>\n",
       "      <th>species_Gentoo</th>\n",
       "      <th>island_Dream</th>\n",
       "      <th>island_Torgersen</th>\n",
       "      <th>sex_male</th>\n",
       "    </tr>\n",
       "  </thead>\n",
       "  <tbody>\n",
       "    <tr>\n",
       "      <th>0</th>\n",
       "      <td>39.1</td>\n",
       "      <td>18.7</td>\n",
       "      <td>181.0</td>\n",
       "      <td>3750.0</td>\n",
       "      <td>0</td>\n",
       "      <td>0</td>\n",
       "      <td>0</td>\n",
       "      <td>1</td>\n",
       "      <td>1</td>\n",
       "    </tr>\n",
       "    <tr>\n",
       "      <th>1</th>\n",
       "      <td>39.5</td>\n",
       "      <td>17.4</td>\n",
       "      <td>186.0</td>\n",
       "      <td>3800.0</td>\n",
       "      <td>0</td>\n",
       "      <td>0</td>\n",
       "      <td>0</td>\n",
       "      <td>1</td>\n",
       "      <td>0</td>\n",
       "    </tr>\n",
       "    <tr>\n",
       "      <th>2</th>\n",
       "      <td>40.3</td>\n",
       "      <td>18.0</td>\n",
       "      <td>195.0</td>\n",
       "      <td>3250.0</td>\n",
       "      <td>0</td>\n",
       "      <td>0</td>\n",
       "      <td>0</td>\n",
       "      <td>1</td>\n",
       "      <td>0</td>\n",
       "    </tr>\n",
       "    <tr>\n",
       "      <th>3</th>\n",
       "      <td>36.7</td>\n",
       "      <td>19.3</td>\n",
       "      <td>193.0</td>\n",
       "      <td>3450.0</td>\n",
       "      <td>0</td>\n",
       "      <td>0</td>\n",
       "      <td>0</td>\n",
       "      <td>1</td>\n",
       "      <td>0</td>\n",
       "    </tr>\n",
       "    <tr>\n",
       "      <th>4</th>\n",
       "      <td>39.3</td>\n",
       "      <td>20.6</td>\n",
       "      <td>190.0</td>\n",
       "      <td>3650.0</td>\n",
       "      <td>0</td>\n",
       "      <td>0</td>\n",
       "      <td>0</td>\n",
       "      <td>1</td>\n",
       "      <td>1</td>\n",
       "    </tr>\n",
       "  </tbody>\n",
       "</table>\n",
       "</div>"
      ],
      "text/plain": [
       "   bill_length_mm  bill_depth_mm  flipper_length_mm  body_mass_g  \\\n",
       "0            39.1           18.7              181.0       3750.0   \n",
       "1            39.5           17.4              186.0       3800.0   \n",
       "2            40.3           18.0              195.0       3250.0   \n",
       "3            36.7           19.3              193.0       3450.0   \n",
       "4            39.3           20.6              190.0       3650.0   \n",
       "\n",
       "   species_Chinstrap  species_Gentoo  island_Dream  island_Torgersen  sex_male  \n",
       "0                  0               0             0                 1         1  \n",
       "1                  0               0             0                 1         0  \n",
       "2                  0               0             0                 1         0  \n",
       "3                  0               0             0                 1         0  \n",
       "4                  0               0             0                 1         1  "
      ]
     },
     "execution_count": 2,
     "metadata": {},
     "output_type": "execute_result"
    }
   ],
   "source": [
    "penguins_with_dummies: pd.DataFrame = pd.get_dummies(penguins, drop_first=True)\n",
    "\n",
    "penguins_with_dummies.head()"
   ]
  },
  {
   "cell_type": "markdown",
   "metadata": {},
   "source": [
    "## _Ordinary_ _least_ _squares_\n"
   ]
  },
  {
   "cell_type": "code",
   "execution_count": 3,
   "metadata": {},
   "outputs": [],
   "source": [
    "# Regressão linear simples com statsmodels.api\n",
    "\n",
    "dependent: pd.Series = penguins[\"body_mass_g\"]\n",
    "\n",
    "independent: pd.DataFrame = sm.add_constant(penguins[\"flipper_length_mm\"])\n",
    "\n",
    "model_results = sm.OLS(dependent, independent).fit()"
   ]
  },
  {
   "cell_type": "code",
   "execution_count": 4,
   "metadata": {},
   "outputs": [],
   "source": [
    "# Regressão linear múltipla com statsmodels.api\n",
    "\n",
    "dependent = penguins[\"body_mass_g\"]\n",
    "\n",
    "independents: pd.DataFrame = penguins.loc[:, penguins.columns != \"body_mass_g\"]\n",
    "\n",
    "independents: pd.DataFrame = independents.pipe(pd.get_dummies, drop_first=True).pipe(sm.add_constant)\n",
    "\n",
    "model_results = sm.OLS(dependent, independents).fit()"
   ]
  },
  {
   "cell_type": "code",
   "execution_count": 5,
   "metadata": {},
   "outputs": [],
   "source": [
    "# Regressão linear simples com statsmodels.formula.api\n",
    "\n",
    "formula = \"body_mass_g ~ flipper_length_mm\"\n",
    "\n",
    "model: sm.OLS = smf.ols(formula, penguins)\n",
    "\n",
    "model_results = model.fit()"
   ]
  },
  {
   "cell_type": "code",
   "execution_count": 6,
   "metadata": {},
   "outputs": [],
   "source": [
    "# Regressão linear múltipla com statsmodels.formula.api\n",
    "\n",
    "formula = \"body_mass_g ~ C(species) + C(island) + C(sex) + bill_length_mm + bill_depth_mm + flipper_length_mm\"\n",
    "\n",
    "model: sm.OLS = smf.ols(formula, penguins)\n",
    "\n",
    "model_results = model.fit()"
   ]
  },
  {
   "cell_type": "markdown",
   "metadata": {},
   "source": [
    "## Modelo de referência\n"
   ]
  },
  {
   "cell_type": "code",
   "execution_count": 7,
   "metadata": {},
   "outputs": [],
   "source": [
    "formula = \"body_mass_g ~ C(species) + C(island) + C(sex) + bill_length_mm + bill_depth_mm + flipper_length_mm\"\n",
    "\n",
    "model: sm.OLS = smf.ols(formula, penguins)\n",
    "\n",
    "model_results = model.fit()"
   ]
  },
  {
   "cell_type": "markdown",
   "metadata": {},
   "source": [
    "## Parâmetros\n"
   ]
  },
  {
   "cell_type": "code",
   "execution_count": 8,
   "metadata": {},
   "outputs": [
    {
     "data": {
      "text/plain": [
       "Intercept                 -1500.029095\n",
       "C(species)[T.Chinstrap]    -260.306295\n",
       "C(species)[T.Gentoo]        987.761445\n",
       "C(island)[T.Dream]          -13.103051\n",
       "C(island)[T.Torgersen]      -48.063626\n",
       "C(sex)[T.male]              387.224255\n",
       "bill_length_mm               18.189315\n",
       "bill_depth_mm                67.575429\n",
       "flipper_length_mm            16.238506\n",
       "dtype: float64"
      ]
     },
     "execution_count": 8,
     "metadata": {},
     "output_type": "execute_result"
    }
   ],
   "source": [
    "model_results.params"
   ]
  },
  {
   "cell_type": "markdown",
   "metadata": {},
   "source": [
    "## _Fitted_ _values_\n"
   ]
  },
  {
   "cell_type": "code",
   "execution_count": 9,
   "metadata": {},
   "outputs": [
    {
     "data": {
      "text/plain": [
       "0      3753.163896\n",
       "1      3366.559840\n",
       "2      3567.803105\n",
       "3      3557.692616\n",
       "4      4031.341630\n",
       "          ...     \n",
       "328    4328.113870\n",
       "329    3521.090279\n",
       "330    3879.880344\n",
       "331    4231.822470\n",
       "332    3618.549923\n",
       "Length: 333, dtype: float64"
      ]
     },
     "execution_count": 9,
     "metadata": {},
     "output_type": "execute_result"
    }
   ],
   "source": [
    "model_results.fittedvalues"
   ]
  },
  {
   "cell_type": "markdown",
   "metadata": {},
   "source": [
    "## Resíduos\n"
   ]
  },
  {
   "cell_type": "code",
   "execution_count": 10,
   "metadata": {},
   "outputs": [
    {
     "data": {
      "text/plain": [
       "0       -3.163896\n",
       "1      433.440160\n",
       "2     -317.803105\n",
       "3     -107.692616\n",
       "4     -381.341630\n",
       "          ...    \n",
       "328   -328.113870\n",
       "329   -121.090279\n",
       "330   -104.880344\n",
       "331   -131.822470\n",
       "332    156.450077\n",
       "Length: 333, dtype: float64"
      ]
     },
     "execution_count": 10,
     "metadata": {},
     "output_type": "execute_result"
    }
   ],
   "source": [
    "model_results.resid"
   ]
  },
  {
   "cell_type": "markdown",
   "metadata": {},
   "source": [
    "## Teste F\n"
   ]
  },
  {
   "cell_type": "code",
   "execution_count": 11,
   "metadata": {},
   "outputs": [
    {
     "data": {
      "text/plain": [
       "284.07932797328783"
      ]
     },
     "execution_count": 11,
     "metadata": {},
     "output_type": "execute_result"
    }
   ],
   "source": [
    "# Valor da estatística de teste\n",
    "\n",
    "model_results.fvalue"
   ]
  },
  {
   "cell_type": "code",
   "execution_count": 12,
   "metadata": {},
   "outputs": [
    {
     "data": {
      "text/plain": [
       "8.0"
      ]
     },
     "execution_count": 12,
     "metadata": {},
     "output_type": "execute_result"
    }
   ],
   "source": [
    "# Graus de liberdade do numerador da distribuição F de Snedecor\n",
    "\n",
    "model_results.df_model"
   ]
  },
  {
   "cell_type": "code",
   "execution_count": 13,
   "metadata": {},
   "outputs": [
    {
     "data": {
      "text/plain": [
       "324.0"
      ]
     },
     "execution_count": 13,
     "metadata": {},
     "output_type": "execute_result"
    }
   ],
   "source": [
    "# Graus de liberdade do denominador da distribuição F de Snedecor\n",
    "\n",
    "model_results.df_resid"
   ]
  },
  {
   "cell_type": "code",
   "execution_count": 14,
   "metadata": {},
   "outputs": [
    {
     "data": {
      "text/plain": [
       "1.8518059590392813e-141"
      ]
     },
     "execution_count": 14,
     "metadata": {},
     "output_type": "execute_result"
    }
   ],
   "source": [
    "# p-value do valor da estatística de teste\n",
    "\n",
    "model_results.f_pvalue"
   ]
  },
  {
   "cell_type": "markdown",
   "metadata": {},
   "source": [
    "## Testes t de Student\n"
   ]
  },
  {
   "cell_type": "code",
   "execution_count": 15,
   "metadata": {},
   "outputs": [
    {
     "data": {
      "text/plain": [
       "Intercept                 -2.605021\n",
       "C(species)[T.Chinstrap]   -2.939634\n",
       "C(species)[T.Gentoo]       7.197429\n",
       "C(island)[T.Dream]        -0.223828\n",
       "C(island)[T.Torgersen]    -0.788943\n",
       "C(sex)[T.male]             8.044007\n",
       "bill_length_mm             2.548812\n",
       "bill_depth_mm              3.409235\n",
       "flipper_length_mm          5.524321\n",
       "dtype: float64"
      ]
     },
     "execution_count": 15,
     "metadata": {},
     "output_type": "execute_result"
    }
   ],
   "source": [
    "# Valor das estatísticas de teste\n",
    "\n",
    "model_results.tvalues"
   ]
  },
  {
   "cell_type": "code",
   "execution_count": 16,
   "metadata": {},
   "outputs": [
    {
     "data": {
      "text/plain": [
       "324.0"
      ]
     },
     "execution_count": 16,
     "metadata": {},
     "output_type": "execute_result"
    }
   ],
   "source": [
    "# Graus de liberdade da distribuição t de Student\n",
    "\n",
    "model_results.df_resid"
   ]
  },
  {
   "cell_type": "code",
   "execution_count": 17,
   "metadata": {},
   "outputs": [
    {
     "data": {
      "text/plain": [
       "Intercept                  9.610484e-03\n",
       "C(species)[T.Chinstrap]    3.522124e-03\n",
       "C(species)[T.Gentoo]       4.299347e-12\n",
       "C(island)[T.Dream]         8.230321e-01\n",
       "C(island)[T.Torgersen]     4.307221e-01\n",
       "C(sex)[T.male]             1.655310e-14\n",
       "bill_length_mm             1.126981e-02\n",
       "bill_depth_mm              7.337653e-04\n",
       "flipper_length_mm          6.801240e-08\n",
       "dtype: float64"
      ]
     },
     "execution_count": 17,
     "metadata": {},
     "output_type": "execute_result"
    }
   ],
   "source": [
    "# p-values do valor da estatística de testes\n",
    "\n",
    "model_results.pvalues"
   ]
  },
  {
   "cell_type": "markdown",
   "metadata": {},
   "source": [
    "## _R²_\n"
   ]
  },
  {
   "cell_type": "code",
   "execution_count": 18,
   "metadata": {},
   "outputs": [
    {
     "data": {
      "text/plain": [
       "0.875223107235797"
      ]
     },
     "execution_count": 18,
     "metadata": {},
     "output_type": "execute_result"
    }
   ],
   "source": [
    "# R²\n",
    "\n",
    "model_results.rsquared"
   ]
  },
  {
   "cell_type": "code",
   "execution_count": 19,
   "metadata": {},
   "outputs": [
    {
     "data": {
      "text/plain": [
       "0.8721421963033475"
      ]
     },
     "execution_count": 19,
     "metadata": {},
     "output_type": "execute_result"
    }
   ],
   "source": [
    "# R² ajustado\n",
    "\n",
    "model_results.rsquared_adj"
   ]
  },
  {
   "cell_type": "markdown",
   "metadata": {},
   "source": [
    "## Teste de Shapiro-Wilk\n"
   ]
  },
  {
   "cell_type": "code",
   "execution_count": 20,
   "metadata": {},
   "outputs": [
    {
     "data": {
      "text/plain": [
       "ShapiroResult(statistic=0.9963915348052979, pvalue=0.6560391783714294)"
      ]
     },
     "execution_count": 20,
     "metadata": {},
     "output_type": "execute_result"
    }
   ],
   "source": [
    "residuals = model_results.resid\n",
    "\n",
    "stats.shapiro(residuals)"
   ]
  },
  {
   "cell_type": "markdown",
   "metadata": {},
   "source": [
    "## Gráfico com resíduos em função dos _fitted_ _values_\n"
   ]
  },
  {
   "cell_type": "code",
   "execution_count": 21,
   "metadata": {},
   "outputs": [
    {
     "data": {
      "image/png": "[encoded data removed]"
     },
     "metadata": {},
     "output_type": "display_data"
    }
   ],
   "source": [
    "residuals = model_results.resid\n",
    "\n",
    "fitted_values = model_results.fittedvalues\n",
    "\n",
    "fig = px.scatter(x=residuals, y=fitted_values)\n",
    "\n",
    "fig.show()"
   ]
  },
  {
   "cell_type": "markdown",
   "metadata": {},
   "source": [
    "## _Variance_ _inflation_ _factor_\n"
   ]
  },
  {
   "cell_type": "code",
   "execution_count": 22,
   "metadata": {},
   "outputs": [
    {
     "data": {
      "text/html": [
       "<div>\n",
       "<style scoped>\n",
       "    .dataframe tbody tr th:only-of-type {\n",
       "        vertical-align: middle;\n",
       "    }\n",
       "\n",
       "    .dataframe tbody tr th {\n",
       "        vertical-align: top;\n",
       "    }\n",
       "\n",
       "    .dataframe thead th {\n",
       "        text-align: right;\n",
       "    }\n",
       "</style>\n",
       "<table border=\"1\" class=\"dataframe\">\n",
       "  <thead>\n",
       "    <tr style=\"text-align: right;\">\n",
       "      <th></th>\n",
       "      <th>variavel</th>\n",
       "      <th>VIF</th>\n",
       "    </tr>\n",
       "  </thead>\n",
       "  <tbody>\n",
       "    <tr>\n",
       "      <th>0</th>\n",
       "      <td>Intercept</td>\n",
       "      <td>1331.892792</td>\n",
       "    </tr>\n",
       "    <tr>\n",
       "      <th>1</th>\n",
       "      <td>C(species)[T.Chinstrap]</td>\n",
       "      <td>5.118487</td>\n",
       "    </tr>\n",
       "    <tr>\n",
       "      <th>2</th>\n",
       "      <td>C(species)[T.Gentoo]</td>\n",
       "      <td>17.374570</td>\n",
       "    </tr>\n",
       "    <tr>\n",
       "      <th>3</th>\n",
       "      <td>C(island)[T.Dream]</td>\n",
       "      <td>3.206594</td>\n",
       "    </tr>\n",
       "    <tr>\n",
       "      <th>4</th>\n",
       "      <td>C(island)[T.Torgersen]</td>\n",
       "      <td>1.807214</td>\n",
       "    </tr>\n",
       "    <tr>\n",
       "      <th>5</th>\n",
       "      <td>C(sex)[T.male]</td>\n",
       "      <td>2.326898</td>\n",
       "    </tr>\n",
       "    <tr>\n",
       "      <th>6</th>\n",
       "      <td>bill_length_mm</td>\n",
       "      <td>6.099673</td>\n",
       "    </tr>\n",
       "    <tr>\n",
       "      <th>7</th>\n",
       "      <td>bill_depth_mm</td>\n",
       "      <td>6.101621</td>\n",
       "    </tr>\n",
       "    <tr>\n",
       "      <th>8</th>\n",
       "      <td>flipper_length_mm</td>\n",
       "      <td>6.797579</td>\n",
       "    </tr>\n",
       "  </tbody>\n",
       "</table>\n",
       "</div>"
      ],
      "text/plain": [
       "                  variavel          VIF\n",
       "0                Intercept  1331.892792\n",
       "1  C(species)[T.Chinstrap]     5.118487\n",
       "2     C(species)[T.Gentoo]    17.374570\n",
       "3       C(island)[T.Dream]     3.206594\n",
       "4   C(island)[T.Torgersen]     1.807214\n",
       "5           C(sex)[T.male]     2.326898\n",
       "6           bill_length_mm     6.099673\n",
       "7            bill_depth_mm     6.101621\n",
       "8        flipper_length_mm     6.797579"
      ]
     },
     "execution_count": 22,
     "metadata": {},
     "output_type": "execute_result"
    }
   ],
   "source": [
    "independents = model_results.model.exog\n",
    "\n",
    "independents_names = model_results.model.exog_names\n",
    "\n",
    "independents_index = range(len(independents_names))\n",
    "\n",
    "pd.DataFrame(\n",
    "    {\n",
    "        \"variavel\": independents_names,\n",
    "        \"VIF\": [variance_inflation_factor(independents, i) for i in independents_index],\n",
    "    }\n",
    ")"
   ]
  },
  {
   "cell_type": "markdown",
   "metadata": {},
   "source": [
    "## Resumo do modelo"
   ]
  },
  {
   "cell_type": "code",
   "execution_count": 23,
   "metadata": {},
   "outputs": [
    {
     "data": {
      "text/html": [
       "<table class=\"simpletable\">\n",
       "<caption>OLS Regression Results</caption>\n",
       "<tr>\n",
       "  <th>Dep. Variable:</th>       <td>body_mass_g</td>   <th>  R-squared:         </th> <td>   0.875</td> \n",
       "</tr>\n",
       "<tr>\n",
       "  <th>Model:</th>                   <td>OLS</td>       <th>  Adj. R-squared:    </th> <td>   0.872</td> \n",
       "</tr>\n",
       "<tr>\n",
       "  <th>Method:</th>             <td>Least Squares</td>  <th>  F-statistic:       </th> <td>   284.1</td> \n",
       "</tr>\n",
       "<tr>\n",
       "  <th>Date:</th>             <td>Fri, 29 Jul 2022</td> <th>  Prob (F-statistic):</th> <td>1.85e-141</td>\n",
       "</tr>\n",
       "<tr>\n",
       "  <th>Time:</th>                 <td>08:44:36</td>     <th>  Log-Likelihood:    </th> <td> -2353.6</td> \n",
       "</tr>\n",
       "<tr>\n",
       "  <th>No. Observations:</th>      <td>   333</td>      <th>  AIC:               </th> <td>   4725.</td> \n",
       "</tr>\n",
       "<tr>\n",
       "  <th>Df Residuals:</th>          <td>   324</td>      <th>  BIC:               </th> <td>   4760.</td> \n",
       "</tr>\n",
       "<tr>\n",
       "  <th>Df Model:</th>              <td>     8</td>      <th>                     </th>     <td> </td>    \n",
       "</tr>\n",
       "<tr>\n",
       "  <th>Covariance Type:</th>      <td>nonrobust</td>    <th>                     </th>     <td> </td>    \n",
       "</tr>\n",
       "</table>\n",
       "<table class=\"simpletable\">\n",
       "<tr>\n",
       "             <td></td>                <th>coef</th>     <th>std err</th>      <th>t</th>      <th>P>|t|</th>  <th>[0.025</th>    <th>0.975]</th>  \n",
       "</tr>\n",
       "<tr>\n",
       "  <th>Intercept</th>               <td>-1500.0291</td> <td>  575.822</td> <td>   -2.605</td> <td> 0.010</td> <td>-2632.852</td> <td> -367.207</td>\n",
       "</tr>\n",
       "<tr>\n",
       "  <th>C(species)[T.Chinstrap]</th> <td> -260.3063</td> <td>   88.551</td> <td>   -2.940</td> <td> 0.004</td> <td> -434.513</td> <td>  -86.100</td>\n",
       "</tr>\n",
       "<tr>\n",
       "  <th>C(species)[T.Gentoo]</th>    <td>  987.7614</td> <td>  137.238</td> <td>    7.197</td> <td> 0.000</td> <td>  717.771</td> <td> 1257.752</td>\n",
       "</tr>\n",
       "<tr>\n",
       "  <th>C(island)[T.Dream]</th>      <td>  -13.1031</td> <td>   58.541</td> <td>   -0.224</td> <td> 0.823</td> <td> -128.271</td> <td>  102.065</td>\n",
       "</tr>\n",
       "<tr>\n",
       "  <th>C(island)[T.Torgersen]</th>  <td>  -48.0636</td> <td>   60.922</td> <td>   -0.789</td> <td> 0.431</td> <td> -167.915</td> <td>   71.788</td>\n",
       "</tr>\n",
       "<tr>\n",
       "  <th>C(sex)[T.male]</th>          <td>  387.2243</td> <td>   48.138</td> <td>    8.044</td> <td> 0.000</td> <td>  292.521</td> <td>  481.927</td>\n",
       "</tr>\n",
       "<tr>\n",
       "  <th>bill_length_mm</th>          <td>   18.1893</td> <td>    7.136</td> <td>    2.549</td> <td> 0.011</td> <td>    4.150</td> <td>   32.229</td>\n",
       "</tr>\n",
       "<tr>\n",
       "  <th>bill_depth_mm</th>           <td>   67.5754</td> <td>   19.821</td> <td>    3.409</td> <td> 0.001</td> <td>   28.581</td> <td>  106.570</td>\n",
       "</tr>\n",
       "<tr>\n",
       "  <th>flipper_length_mm</th>       <td>   16.2385</td> <td>    2.939</td> <td>    5.524</td> <td> 0.000</td> <td>   10.456</td> <td>   22.021</td>\n",
       "</tr>\n",
       "</table>\n",
       "<table class=\"simpletable\">\n",
       "<tr>\n",
       "  <th>Omnibus:</th>       <td> 1.114</td> <th>  Durbin-Watson:     </th> <td>   2.162</td>\n",
       "</tr>\n",
       "<tr>\n",
       "  <th>Prob(Omnibus):</th> <td> 0.573</td> <th>  Jarque-Bera (JB):  </th> <td>   1.101</td>\n",
       "</tr>\n",
       "<tr>\n",
       "  <th>Skew:</th>          <td> 0.139</td> <th>  Prob(JB):          </th> <td>   0.577</td>\n",
       "</tr>\n",
       "<tr>\n",
       "  <th>Kurtosis:</th>      <td> 2.958</td> <th>  Cond. No.          </th> <td>7.59e+03</td>\n",
       "</tr>\n",
       "</table><br/><br/>Notes:<br/>[1] Standard Errors assume that the covariance matrix of the errors is correctly specified.<br/>[2] The condition number is large, 7.59e+03. This might indicate that there are<br/>strong multicollinearity or other numerical problems."
      ],
      "text/plain": [
       "<class 'statsmodels.iolib.summary.Summary'>\n",
       "\"\"\"\n",
       "                            OLS Regression Results                            \n",
       "==============================================================================\n",
       "Dep. Variable:            body_mass_g   R-squared:                       0.875\n",
       "Model:                            OLS   Adj. R-squared:                  0.872\n",
       "Method:                 Least Squares   F-statistic:                     284.1\n",
       "Date:                Fri, 29 Jul 2022   Prob (F-statistic):          1.85e-141\n",
       "Time:                        08:44:36   Log-Likelihood:                -2353.6\n",
       "No. Observations:                 333   AIC:                             4725.\n",
       "Df Residuals:                     324   BIC:                             4760.\n",
       "Df Model:                           8                                         \n",
       "Covariance Type:            nonrobust                                         \n",
       "===========================================================================================\n",
       "                              coef    std err          t      P>|t|      [0.025      0.975]\n",
       "-------------------------------------------------------------------------------------------\n",
       "Intercept               -1500.0291    575.822     -2.605      0.010   -2632.852    -367.207\n",
       "C(species)[T.Chinstrap]  -260.3063     88.551     -2.940      0.004    -434.513     -86.100\n",
       "C(species)[T.Gentoo]      987.7614    137.238      7.197      0.000     717.771    1257.752\n",
       "C(island)[T.Dream]        -13.1031     58.541     -0.224      0.823    -128.271     102.065\n",
       "C(island)[T.Torgersen]    -48.0636     60.922     -0.789      0.431    -167.915      71.788\n",
       "C(sex)[T.male]            387.2243     48.138      8.044      0.000     292.521     481.927\n",
       "bill_length_mm             18.1893      7.136      2.549      0.011       4.150      32.229\n",
       "bill_depth_mm              67.5754     19.821      3.409      0.001      28.581     106.570\n",
       "flipper_length_mm          16.2385      2.939      5.524      0.000      10.456      22.021\n",
       "==============================================================================\n",
       "Omnibus:                        1.114   Durbin-Watson:                   2.162\n",
       "Prob(Omnibus):                  0.573   Jarque-Bera (JB):                1.101\n",
       "Skew:                           0.139   Prob(JB):                        0.577\n",
       "Kurtosis:                       2.958   Cond. No.                     7.59e+03\n",
       "==============================================================================\n",
       "\n",
       "Notes:\n",
       "[1] Standard Errors assume that the covariance matrix of the errors is correctly specified.\n",
       "[2] The condition number is large, 7.59e+03. This might indicate that there are\n",
       "strong multicollinearity or other numerical problems.\n",
       "\"\"\""
      ]
     },
     "execution_count": 23,
     "metadata": {},
     "output_type": "execute_result"
    }
   ],
   "source": [
    "model_results.summary()"
   ]
  }
 ],
 "metadata": {
  "kernelspec": {
   "display_name": "Python 3.10.5 64-bit",
   "language": "python",
   "name": "python3"
  },
  "language_info": {
   "codemirror_mode": {
    "name": "ipython",
    "version": 3
   },
   "file_extension": ".py",
   "mimetype": "text/x-python",
   "name": "python",
   "nbconvert_exporter": "python",
   "pygments_lexer": "ipython3",
   "version": "3.10.5"
  },
  "orig_nbformat": 4,
  "vscode": {
   "interpreter": {
    "hash": "26de051ba29f2982a8de78e945f0abaf191376122a1563185a90213a26c5da77"
   }
  }
 },
 "nbformat": 4,
 "nbformat_minor": 2
}
