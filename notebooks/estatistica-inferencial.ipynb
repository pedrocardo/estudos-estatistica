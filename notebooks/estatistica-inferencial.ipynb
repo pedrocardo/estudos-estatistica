{
 "cells": [
  {
   "cell_type": "markdown",
   "metadata": {},
   "source": [
    "# Estatística inferencial"
   ]
  },
  {
   "cell_type": "code",
   "execution_count": 1,
   "metadata": {},
   "outputs": [],
   "source": [
    "import pandas as pd\n",
    "from palmerpenguins import load_penguins\n",
    "from scipy import stats\n",
    "\n",
    "penguins: pd.DataFrame = load_penguins().dropna().reset_index(drop=True).infer_objects()\n",
    "\n",
    "penguins.loc[:, penguins.dtypes == object] = penguins.select_dtypes(object).astype(\"category\")"
   ]
  },
  {
   "cell_type": "markdown",
   "metadata": {},
   "source": [
    "## Amostragem"
   ]
  },
  {
   "cell_type": "code",
   "execution_count": 2,
   "metadata": {},
   "outputs": [
    {
     "data": {
      "text/html": [
       "<div>\n",
       "<style scoped>\n",
       "    .dataframe tbody tr th:only-of-type {\n",
       "        vertical-align: middle;\n",
       "    }\n",
       "\n",
       "    .dataframe tbody tr th {\n",
       "        vertical-align: top;\n",
       "    }\n",
       "\n",
       "    .dataframe thead th {\n",
       "        text-align: right;\n",
       "    }\n",
       "</style>\n",
       "<table border=\"1\" class=\"dataframe\">\n",
       "  <thead>\n",
       "    <tr style=\"text-align: right;\">\n",
       "      <th></th>\n",
       "      <th>species</th>\n",
       "      <th>island</th>\n",
       "      <th>bill_length_mm</th>\n",
       "      <th>bill_depth_mm</th>\n",
       "      <th>flipper_length_mm</th>\n",
       "      <th>body_mass_g</th>\n",
       "      <th>sex</th>\n",
       "      <th>year</th>\n",
       "    </tr>\n",
       "  </thead>\n",
       "  <tbody>\n",
       "    <tr>\n",
       "      <th>310</th>\n",
       "      <td>Chinstrap</td>\n",
       "      <td>Dream</td>\n",
       "      <td>50.8</td>\n",
       "      <td>18.5</td>\n",
       "      <td>201.0</td>\n",
       "      <td>4450.0</td>\n",
       "      <td>male</td>\n",
       "      <td>2009</td>\n",
       "    </tr>\n",
       "    <tr>\n",
       "      <th>325</th>\n",
       "      <td>Chinstrap</td>\n",
       "      <td>Dream</td>\n",
       "      <td>51.9</td>\n",
       "      <td>19.5</td>\n",
       "      <td>206.0</td>\n",
       "      <td>3950.0</td>\n",
       "      <td>male</td>\n",
       "      <td>2009</td>\n",
       "    </tr>\n",
       "    <tr>\n",
       "      <th>185</th>\n",
       "      <td>Gentoo</td>\n",
       "      <td>Biscoe</td>\n",
       "      <td>42.7</td>\n",
       "      <td>13.7</td>\n",
       "      <td>208.0</td>\n",
       "      <td>3950.0</td>\n",
       "      <td>female</td>\n",
       "      <td>2008</td>\n",
       "    </tr>\n",
       "    <tr>\n",
       "      <th>74</th>\n",
       "      <td>Adelie</td>\n",
       "      <td>Torgersen</td>\n",
       "      <td>34.6</td>\n",
       "      <td>17.2</td>\n",
       "      <td>189.0</td>\n",
       "      <td>3200.0</td>\n",
       "      <td>female</td>\n",
       "      <td>2008</td>\n",
       "    </tr>\n",
       "    <tr>\n",
       "      <th>18</th>\n",
       "      <td>Adelie</td>\n",
       "      <td>Biscoe</td>\n",
       "      <td>38.2</td>\n",
       "      <td>18.1</td>\n",
       "      <td>185.0</td>\n",
       "      <td>3950.0</td>\n",
       "      <td>male</td>\n",
       "      <td>2007</td>\n",
       "    </tr>\n",
       "  </tbody>\n",
       "</table>\n",
       "</div>"
      ],
      "text/plain": [
       "       species     island  bill_length_mm  bill_depth_mm  flipper_length_mm  \\\n",
       "310  Chinstrap      Dream            50.8           18.5              201.0   \n",
       "325  Chinstrap      Dream            51.9           19.5              206.0   \n",
       "185     Gentoo     Biscoe            42.7           13.7              208.0   \n",
       "74      Adelie  Torgersen            34.6           17.2              189.0   \n",
       "18      Adelie     Biscoe            38.2           18.1              185.0   \n",
       "\n",
       "     body_mass_g     sex  year  \n",
       "310       4450.0    male  2009  \n",
       "325       3950.0    male  2009  \n",
       "185       3950.0  female  2008  \n",
       "74        3200.0  female  2008  \n",
       "18        3950.0    male  2007  "
      ]
     },
     "execution_count": 2,
     "metadata": {},
     "output_type": "execute_result"
    }
   ],
   "source": [
    "# Amostragem aleatória simples\n",
    "\n",
    "penguins.sample(5)\n",
    "\n",
    "penguins.sample(frac=0.015)"
   ]
  },
  {
   "cell_type": "code",
   "execution_count": 3,
   "metadata": {},
   "outputs": [
    {
     "data": {
      "text/html": [
       "<div>\n",
       "<style scoped>\n",
       "    .dataframe tbody tr th:only-of-type {\n",
       "        vertical-align: middle;\n",
       "    }\n",
       "\n",
       "    .dataframe tbody tr th {\n",
       "        vertical-align: top;\n",
       "    }\n",
       "\n",
       "    .dataframe thead th {\n",
       "        text-align: right;\n",
       "    }\n",
       "</style>\n",
       "<table border=\"1\" class=\"dataframe\">\n",
       "  <thead>\n",
       "    <tr style=\"text-align: right;\">\n",
       "      <th></th>\n",
       "      <th></th>\n",
       "      <th>species</th>\n",
       "      <th>island</th>\n",
       "      <th>bill_length_mm</th>\n",
       "      <th>bill_depth_mm</th>\n",
       "      <th>flipper_length_mm</th>\n",
       "      <th>body_mass_g</th>\n",
       "      <th>sex</th>\n",
       "      <th>year</th>\n",
       "    </tr>\n",
       "    <tr>\n",
       "      <th>species</th>\n",
       "      <th></th>\n",
       "      <th></th>\n",
       "      <th></th>\n",
       "      <th></th>\n",
       "      <th></th>\n",
       "      <th></th>\n",
       "      <th></th>\n",
       "      <th></th>\n",
       "      <th></th>\n",
       "    </tr>\n",
       "  </thead>\n",
       "  <tbody>\n",
       "    <tr>\n",
       "      <th rowspan=\"2\" valign=\"top\">Adelie</th>\n",
       "      <th>128</th>\n",
       "      <td>Adelie</td>\n",
       "      <td>Dream</td>\n",
       "      <td>38.1</td>\n",
       "      <td>17.6</td>\n",
       "      <td>187.0</td>\n",
       "      <td>3425.0</td>\n",
       "      <td>female</td>\n",
       "      <td>2009</td>\n",
       "    </tr>\n",
       "    <tr>\n",
       "      <th>83</th>\n",
       "      <td>Adelie</td>\n",
       "      <td>Dream</td>\n",
       "      <td>38.9</td>\n",
       "      <td>18.8</td>\n",
       "      <td>190.0</td>\n",
       "      <td>3600.0</td>\n",
       "      <td>female</td>\n",
       "      <td>2008</td>\n",
       "    </tr>\n",
       "    <tr>\n",
       "      <th rowspan=\"2\" valign=\"top\">Chinstrap</th>\n",
       "      <th>305</th>\n",
       "      <td>Chinstrap</td>\n",
       "      <td>Dream</td>\n",
       "      <td>49.0</td>\n",
       "      <td>19.5</td>\n",
       "      <td>210.0</td>\n",
       "      <td>3950.0</td>\n",
       "      <td>male</td>\n",
       "      <td>2008</td>\n",
       "    </tr>\n",
       "    <tr>\n",
       "      <th>331</th>\n",
       "      <td>Chinstrap</td>\n",
       "      <td>Dream</td>\n",
       "      <td>50.8</td>\n",
       "      <td>19.0</td>\n",
       "      <td>210.0</td>\n",
       "      <td>4100.0</td>\n",
       "      <td>male</td>\n",
       "      <td>2009</td>\n",
       "    </tr>\n",
       "    <tr>\n",
       "      <th rowspan=\"2\" valign=\"top\">Gentoo</th>\n",
       "      <th>222</th>\n",
       "      <td>Gentoo</td>\n",
       "      <td>Biscoe</td>\n",
       "      <td>45.2</td>\n",
       "      <td>13.8</td>\n",
       "      <td>215.0</td>\n",
       "      <td>4750.0</td>\n",
       "      <td>female</td>\n",
       "      <td>2008</td>\n",
       "    </tr>\n",
       "    <tr>\n",
       "      <th>229</th>\n",
       "      <td>Gentoo</td>\n",
       "      <td>Biscoe</td>\n",
       "      <td>50.8</td>\n",
       "      <td>17.3</td>\n",
       "      <td>228.0</td>\n",
       "      <td>5600.0</td>\n",
       "      <td>male</td>\n",
       "      <td>2009</td>\n",
       "    </tr>\n",
       "  </tbody>\n",
       "</table>\n",
       "</div>"
      ],
      "text/plain": [
       "                 species  island  bill_length_mm  bill_depth_mm  \\\n",
       "species                                                           \n",
       "Adelie    128     Adelie   Dream            38.1           17.6   \n",
       "          83      Adelie   Dream            38.9           18.8   \n",
       "Chinstrap 305  Chinstrap   Dream            49.0           19.5   \n",
       "          331  Chinstrap   Dream            50.8           19.0   \n",
       "Gentoo    222     Gentoo  Biscoe            45.2           13.8   \n",
       "          229     Gentoo  Biscoe            50.8           17.3   \n",
       "\n",
       "               flipper_length_mm  body_mass_g     sex  year  \n",
       "species                                                      \n",
       "Adelie    128              187.0       3425.0  female  2009  \n",
       "          83               190.0       3600.0  female  2008  \n",
       "Chinstrap 305              210.0       3950.0    male  2008  \n",
       "          331              210.0       4100.0    male  2009  \n",
       "Gentoo    222              215.0       4750.0  female  2008  \n",
       "          229              228.0       5600.0    male  2009  "
      ]
     },
     "execution_count": 3,
     "metadata": {},
     "output_type": "execute_result"
    }
   ],
   "source": [
    "# Amostragem aleatória estratificada\n",
    "\n",
    "penguins.groupby(\"species\").apply(lambda df: df.sample(2))"
   ]
  },
  {
   "cell_type": "markdown",
   "metadata": {},
   "source": [
    "## Testes de hipóteses\n"
   ]
  },
  {
   "cell_type": "code",
   "execution_count": 4,
   "metadata": {},
   "outputs": [
    {
     "data": {
      "text/plain": [
       "Ttest_1sampResult(statistic=-2.2166056742785445, pvalue=0.018189065495137383)"
      ]
     },
     "execution_count": 4,
     "metadata": {},
     "output_type": "execute_result"
    }
   ],
   "source": [
    "# Teste t de Student com uma amostra\n",
    "\n",
    "amostra = stats.norm.rvs(loc=16.808, scale=2.733, size=25)\n",
    "\n",
    "stats.ttest_1samp(amostra, popmean=18, alternative=\"less\")"
   ]
  },
  {
   "cell_type": "code",
   "execution_count": 5,
   "metadata": {},
   "outputs": [
    {
     "data": {
      "text/plain": [
       "Ttest_indResult(statistic=-9.70841463275532, pvalue=9.185777525386829e-14)"
      ]
     },
     "execution_count": 5,
     "metadata": {},
     "output_type": "execute_result"
    }
   ],
   "source": [
    "# Teste t de Student com duas amostras independentes\n",
    "\n",
    "tempos1 = [22.8, 23.4, 26.2, 24.3, 22.0, 24.8, 26.7, 25.1, 23.1, 22.8, 25.6, 25.1, 24.3, 24.2, 22.8, 23.2, 24.7, 26.5, 24.5, 23.6, 23.9, 22.8, 25.4, 26.7, 22.9, 23.5, 23.8, 24.6, 26.3, 22.7]\n",
    "\n",
    "tempos2 = [26.8, 29.3, 28.4, 25.6, 29.4, 27.2, 27.6, 26.8, 25.4, 28.6, 29.7, 27.2, 27.9, 28.4, 26.0, 26.8, 27.5, 28.5, 27.3, 29.1, 29.2, 25.7, 28.4, 28.6, 27.9, 27.4, 26.7, 26.8, 25.6, 26.1]\n",
    "\n",
    "stats.ttest_ind(tempos1, tempos2, alternative=\"two-sided\", equal_var=True)"
   ]
  },
  {
   "cell_type": "code",
   "execution_count": 6,
   "metadata": {},
   "outputs": [
    {
     "data": {
      "text/plain": [
       "Ttest_indResult(statistic=-9.70841463275532, pvalue=9.728921191025935e-14)"
      ]
     },
     "execution_count": 6,
     "metadata": {},
     "output_type": "execute_result"
    }
   ],
   "source": [
    "# Teste t de Welch\n",
    "\n",
    "tempos1 = [22.8, 23.4, 26.2, 24.3, 22.0, 24.8, 26.7, 25.1, 23.1, 22.8, 25.6, 25.1, 24.3, 24.2, 22.8, 23.2, 24.7, 26.5, 24.5, 23.6, 23.9, 22.8, 25.4, 26.7, 22.9, 23.5, 23.8, 24.6, 26.3, 22.7]\n",
    "\n",
    "tempos2 = [26.8, 29.3, 28.4, 25.6, 29.4, 27.2, 27.6, 26.8, 25.4, 28.6, 29.7, 27.2, 27.9, 28.4, 26.0, 26.8, 27.5, 28.5, 27.3, 29.1, 29.2, 25.7, 28.4, 28.6, 27.9, 27.4, 26.7, 26.8, 25.6, 26.1]\n",
    "\n",
    "stats.ttest_ind(tempos1, tempos2, alternative=\"two-sided\", equal_var=False)"
   ]
  },
  {
   "cell_type": "code",
   "execution_count": 7,
   "metadata": {},
   "outputs": [
    {
     "data": {
      "text/plain": [
       "(15.860566448801741,\n",
       " 0.0032120846981537215,\n",
       " 4,\n",
       " array([[32.64, 34.56, 28.8 ],\n",
       "        [24.48, 25.92, 21.6 ],\n",
       "        [10.88, 11.52,  9.6 ]]))"
      ]
     },
     "execution_count": 7,
     "metadata": {},
     "output_type": "execute_result"
    }
   ],
   "source": [
    "# Teste de independência qui-quadrado\n",
    "\n",
    "tabela_contingencia = pd.DataFrame(\n",
    "    {\n",
    "        \"avaliação baixa\": [40, 16, 12],\n",
    "        \"avaliação média\": [32, 24, 16],\n",
    "        \"avaliação alta\": [24, 32, 4],\n",
    "    },\n",
    "    index=[\"Plano 1\", \"Plano 2\", \"Plano 3\"],\n",
    ")\n",
    "\n",
    "stats.chi2_contingency(tabela_contingencia, correction=False)"
   ]
  },
  {
   "cell_type": "code",
   "execution_count": 8,
   "metadata": {},
   "outputs": [
    {
     "data": {
      "text/plain": [
       "Power_divergenceResult(statistic=array([4.7124183 , 2.07407407, 9.07407407]), pvalue=array([nan, nan, nan]))"
      ]
     },
     "execution_count": 8,
     "metadata": {},
     "output_type": "execute_result"
    }
   ],
   "source": [
    "tabela_contingencia = pd.DataFrame(\n",
    "    {\n",
    "        \"avaliação baixa\": [40, 16, 12],\n",
    "        \"avaliação média\": [32, 24, 16],\n",
    "        \"avaliação alta\": [24, 32, 4],\n",
    "    },\n",
    "    index=[\"Plano 1\", \"Plano 2\", \"Plano 3\"],\n",
    ")\n",
    "\n",
    "tabela_contingencia_esperada = stats.contingency.expected_freq(tabela_contingencia)\n",
    "\n",
    "stats.chisquare(tabela_contingencia, tabela_contingencia_esperada, ddof=4, )"
   ]
  }
 ],
 "metadata": {
  "interpreter": {
   "hash": "b89b5cfaba6639976dc87ff2fec6d58faec662063367e2c229c520fe71072417"
  },
  "kernelspec": {
   "display_name": "Python 3.10.2 64-bit",
   "language": "python",
   "name": "python3"
  },
  "language_info": {
   "codemirror_mode": {
    "name": "ipython",
    "version": 3
   },
   "file_extension": ".py",
   "mimetype": "text/x-python",
   "name": "python",
   "nbconvert_exporter": "python",
   "pygments_lexer": "ipython3",
   "version": "3.10.4"
  },
  "orig_nbformat": 4
 },
 "nbformat": 4,
 "nbformat_minor": 2
}
